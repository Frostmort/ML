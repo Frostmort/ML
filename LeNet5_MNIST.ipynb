{
  "nbformat": 4,
  "nbformat_minor": 0,
  "metadata": {
    "colab": {
      "name": "LeNet5_MNIST.ipynb",
      "provenance": [],
      "authorship_tag": "ABX9TyNRh2U+5DkFXb/9KuZd8nwY",
      "include_colab_link": true
    },
    "kernelspec": {
      "name": "python3",
      "display_name": "Python 3"
    },
    "accelerator": "GPU"
  },
  "cells": [
    {
      "cell_type": "markdown",
      "metadata": {
        "id": "view-in-github",
        "colab_type": "text"
      },
      "source": [
        "<a href=\"https://colab.research.google.com/github/ibribr/ML/blob/master/LeNet5_MNIST.ipynb\" target=\"_parent\"><img src=\"https://colab.research.google.com/assets/colab-badge.svg\" alt=\"Open In Colab\"/></a>"
      ]
    },
    {
      "cell_type": "code",
      "metadata": {
        "id": "xu3qb8KZ-rmY"
      },
      "source": [
        "import numpy as np\n",
        "import matplotlib.pyplot as plt\n",
        "from matplotlib.colors import ListedColormap\n",
        "from keras.datasets.mnist import load_data\n",
        "from keras.utils import to_categorical\n",
        "from keras.models import Sequential\n",
        "from keras.layers import Conv2D, AveragePooling2D, Flatten, Dense\n",
        "from sklearn.metrics import confusion_matrix"
      ],
      "execution_count": 16,
      "outputs": []
    },
    {
      "cell_type": "code",
      "metadata": {
        "id": "5TtaPJJB_X3V",
        "outputId": "973013ee-6e25-4b14-efb0-700ecc26a3f3",
        "colab": {
          "base_uri": "https://localhost:8080/",
          "height": 85
        }
      },
      "source": [
        "(xtrain, ytrain), (xtest, ytest) = load_data()\n",
        "xtrain = xtrain.astype('float32') /255.\n",
        "xtest = xtest.astype('float32') /255.\n",
        "ytrain = to_categorical(ytrain)\n",
        "ytest = to_categorical(ytest)\n",
        "\n",
        "print('Original Dimensions : ',xtrain.shape)\n",
        "\n",
        "xtrain = np.expand_dims(xtrain, axis=3)\n",
        "xtest = np.expand_dims(xtest, axis=3)\n",
        "\n",
        "print(xtrain.shape)"
      ],
      "execution_count": 8,
      "outputs": [
        {
          "output_type": "stream",
          "text": [
            "Downloading data from https://storage.googleapis.com/tensorflow/tf-keras-datasets/mnist.npz\n",
            "11493376/11490434 [==============================] - 0s 0us/step\n",
            "Original Dimensions :  (60000, 28, 28)\n",
            "(60000, 28, 28, 1)\n"
          ],
          "name": "stdout"
        }
      ]
    },
    {
      "cell_type": "code",
      "metadata": {
        "id": "Rf1MYiefALGW",
        "outputId": "3a1833c9-5c32-427d-f0d7-7f4a8ac83226",
        "colab": {
          "base_uri": "https://localhost:8080/",
          "height": 425
        }
      },
      "source": [
        "model = Sequential()\n",
        "model.add(Conv2D(filters=6, kernel_size = 5, strides = 1, activation = 'tanh', input_shape = (28, 28, 1), padding = 'same'))\n",
        "model.add(AveragePooling2D(pool_size = 2, strides = 2, padding = 'valid'))\n",
        "model.add(Conv2D(filters=16, kernel_size = 5, strides = 1, activation = 'tanh', padding = 'valid'))\n",
        "model.add(AveragePooling2D(pool_size = 2, strides = 2, padding = 'valid'))\n",
        "model.add(Conv2D(filters = 120, kernel_size = 5, strides = 1, activation = 'tanh', padding = 'valid'))\n",
        "model.add(Flatten())\n",
        "model.add(Dense(units = 84, activation = 'tanh', ))\n",
        "model.add(Dense(units = 10, activation = 'softmax'))\n",
        "\n",
        "model.summary()"
      ],
      "execution_count": 9,
      "outputs": [
        {
          "output_type": "stream",
          "text": [
            "Model: \"sequential\"\n",
            "_________________________________________________________________\n",
            "Layer (type)                 Output Shape              Param #   \n",
            "=================================================================\n",
            "conv2d (Conv2D)              (None, 28, 28, 6)         156       \n",
            "_________________________________________________________________\n",
            "average_pooling2d (AveragePo (None, 14, 14, 6)         0         \n",
            "_________________________________________________________________\n",
            "conv2d_1 (Conv2D)            (None, 10, 10, 16)        2416      \n",
            "_________________________________________________________________\n",
            "average_pooling2d_1 (Average (None, 5, 5, 16)          0         \n",
            "_________________________________________________________________\n",
            "conv2d_2 (Conv2D)            (None, 1, 1, 120)         48120     \n",
            "_________________________________________________________________\n",
            "flatten (Flatten)            (None, 120)               0         \n",
            "_________________________________________________________________\n",
            "dense (Dense)                (None, 84)                10164     \n",
            "_________________________________________________________________\n",
            "dense_1 (Dense)              (None, 10)                850       \n",
            "=================================================================\n",
            "Total params: 61,706\n",
            "Trainable params: 61,706\n",
            "Non-trainable params: 0\n",
            "_________________________________________________________________\n"
          ],
          "name": "stdout"
        }
      ]
    },
    {
      "cell_type": "code",
      "metadata": {
        "id": "A4RTnbuYEFNT",
        "outputId": "06463a62-59bd-484b-8cd8-ab377957fbec",
        "colab": {
          "base_uri": "https://localhost:8080/",
          "height": 697
        }
      },
      "source": [
        "model.compile(loss='categorical_crossentropy', optimizer='sgd', metrics=['accuracy'])\n",
        "hist = model.fit(xtrain, ytrain, batch_size=32, epochs=20, validation_data=(xtest, ytest), verbose=2, shuffle=True)"
      ],
      "execution_count": 10,
      "outputs": [
        {
          "output_type": "stream",
          "text": [
            "Epoch 1/20\n",
            "1875/1875 - 5s - loss: 0.6363 - accuracy: 0.8316 - val_loss: 0.3029 - val_accuracy: 0.9143\n",
            "Epoch 2/20\n",
            "1875/1875 - 5s - loss: 0.2689 - accuracy: 0.9205 - val_loss: 0.2150 - val_accuracy: 0.9360\n",
            "Epoch 3/20\n",
            "1875/1875 - 5s - loss: 0.2000 - accuracy: 0.9414 - val_loss: 0.1610 - val_accuracy: 0.9526\n",
            "Epoch 4/20\n",
            "1875/1875 - 5s - loss: 0.1556 - accuracy: 0.9543 - val_loss: 0.1283 - val_accuracy: 0.9622\n",
            "Epoch 5/20\n",
            "1875/1875 - 5s - loss: 0.1264 - accuracy: 0.9635 - val_loss: 0.1061 - val_accuracy: 0.9692\n",
            "Epoch 6/20\n",
            "1875/1875 - 5s - loss: 0.1065 - accuracy: 0.9686 - val_loss: 0.0901 - val_accuracy: 0.9733\n",
            "Epoch 7/20\n",
            "1875/1875 - 5s - loss: 0.0920 - accuracy: 0.9730 - val_loss: 0.0806 - val_accuracy: 0.9752\n",
            "Epoch 8/20\n",
            "1875/1875 - 5s - loss: 0.0816 - accuracy: 0.9760 - val_loss: 0.0713 - val_accuracy: 0.9785\n",
            "Epoch 9/20\n",
            "1875/1875 - 5s - loss: 0.0735 - accuracy: 0.9780 - val_loss: 0.0652 - val_accuracy: 0.9804\n",
            "Epoch 10/20\n",
            "1875/1875 - 5s - loss: 0.0669 - accuracy: 0.9803 - val_loss: 0.0595 - val_accuracy: 0.9825\n",
            "Epoch 11/20\n",
            "1875/1875 - 5s - loss: 0.0615 - accuracy: 0.9818 - val_loss: 0.0580 - val_accuracy: 0.9820\n",
            "Epoch 12/20\n",
            "1875/1875 - 5s - loss: 0.0571 - accuracy: 0.9832 - val_loss: 0.0540 - val_accuracy: 0.9824\n",
            "Epoch 13/20\n",
            "1875/1875 - 5s - loss: 0.0535 - accuracy: 0.9844 - val_loss: 0.0548 - val_accuracy: 0.9829\n",
            "Epoch 14/20\n",
            "1875/1875 - 5s - loss: 0.0503 - accuracy: 0.9851 - val_loss: 0.0488 - val_accuracy: 0.9842\n",
            "Epoch 15/20\n",
            "1875/1875 - 5s - loss: 0.0473 - accuracy: 0.9865 - val_loss: 0.0463 - val_accuracy: 0.9848\n",
            "Epoch 16/20\n",
            "1875/1875 - 5s - loss: 0.0446 - accuracy: 0.9868 - val_loss: 0.0458 - val_accuracy: 0.9854\n",
            "Epoch 17/20\n",
            "1875/1875 - 5s - loss: 0.0427 - accuracy: 0.9874 - val_loss: 0.0421 - val_accuracy: 0.9863\n",
            "Epoch 18/20\n",
            "1875/1875 - 5s - loss: 0.0403 - accuracy: 0.9882 - val_loss: 0.0418 - val_accuracy: 0.9854\n",
            "Epoch 19/20\n",
            "1875/1875 - 5s - loss: 0.0386 - accuracy: 0.9888 - val_loss: 0.0410 - val_accuracy: 0.9870\n",
            "Epoch 20/20\n",
            "1875/1875 - 5s - loss: 0.0369 - accuracy: 0.9891 - val_loss: 0.0404 - val_accuracy: 0.9867\n"
          ],
          "name": "stdout"
        }
      ]
    },
    {
      "cell_type": "code",
      "metadata": {
        "id": "oJW2MfnkQzmH",
        "outputId": "2e3cbf8f-32d5-435f-e1e1-e52399551edc",
        "colab": {
          "base_uri": "https://localhost:8080/",
          "height": 675
        }
      },
      "source": [
        "print(hist.history.keys())\n",
        "loss = hist.history['loss']\n",
        "print(np.mean(loss))\n",
        "accuracy = hist.history['accuracy']\n",
        "val_loss = hist.history['val_loss']\n",
        "val_accuracy = hist.history['val_accuracy']\n",
        "\n",
        "print('Training and validation loss    : ', np.mean(loss), np.mean(val_loss))\n",
        "print('Training and validation accuracy: ', np.mean(accuracy), np.mean(val_accuracy))\n",
        "\n",
        "ypred = model.predict(xtest)\n",
        "score = model.evaluate(xtest, ytest)\n",
        "print('accuracy :', score)\n",
        "\n",
        "epochs = range(1, len(loss)+1)\n",
        "\n",
        "plt.figure()\n",
        "plt.plot(epochs, loss, 'bo', label='Training loss')\n",
        "plt.plot(epochs, val_loss, 'b', label='Validation loss')\n",
        "plt.title('Training and validation loss')\n",
        "plt.xlabel('Epochs')\n",
        "plt.ylabel('Loss')\n",
        "plt.legend()\n",
        "plt.grid()\n",
        "\n",
        "plt.figure()\n",
        "plt.plot(epochs, accuracy, 'bo', label='Training accuracy')\n",
        "plt.plot(epochs, val_accuracy, 'b', label='Validation accuracy')\n",
        "plt.title('Training and validation accuracy')\n",
        "plt.xlabel('Epochs')\n",
        "plt.ylabel('Accuracy')\n",
        "plt.legend()\n",
        "plt.grid()"
      ],
      "execution_count": 11,
      "outputs": [
        {
          "output_type": "stream",
          "text": [
            "dict_keys(['loss', 'accuracy', 'val_loss', 'val_accuracy'])\n",
            "0.11403674185276032\n",
            "Training and validation loss    :  0.11403674185276032 0.08764940928667783\n",
            "Training and validation accuracy:  0.9674249976873398 0.9735650032758713\n",
            "313/313 [==============================] - 1s 2ms/step - loss: 0.0404 - accuracy: 0.9867\n",
            "accuracy : [0.040402933955192566, 0.9866999983787537]\n"
          ],
          "name": "stdout"
        },
        {
          "output_type": "display_data",
          "data": {
            "image/png": "[encoded data removed]",
            "text/plain": [
              "<Figure size 432x288 with 1 Axes>"
            ]
          },
          "metadata": {
            "tags": [],
            "needs_background": "light"
          }
        },
        {
          "output_type": "display_data",
          "data": {
            "image/png": "[encoded data removed]",
            "text/plain": [
              "<Figure size 432x288 with 1 Axes>"
            ]
          },
          "metadata": {
            "tags": [],
            "needs_background": "light"
          }
        }
      ]
    },
    {
      "cell_type": "code",
      "metadata": {
        "id": "HpPf-oPym5-M",
        "outputId": "4bec21b8-1797-4b51-ff12-37b87290e88c",
        "colab": {
          "base_uri": "https://localhost:8080/",
          "height": 329
        }
      },
      "source": [
        "print('Confusion Matrix')\n",
        "\n",
        "cmap = ListedColormap(['lightgrey', 'silver', 'ghostwhite', 'lavender', 'wheat'])\n",
        "\n",
        "cm = confusion_matrix(ytest.argmax(1), ypred.argmax(1))\n",
        "plt.figure()\n",
        "plt.matshow(cm, cmap=cmap)\n",
        "\n",
        "for i in range(cm.shape[0]):\n",
        "  for j in range(cm.shape[1]):\n",
        "    plt.text(x=j, y=i, s=cm[i,j], va='center', ha='center')\n",
        "  \n",
        "plt.title('Confusion matrix for test set')\n",
        "plt.xlabel('Predicted label')\n",
        "plt.ylabel('True label')\n",
        "plt.show()"
      ],
      "execution_count": 17,
      "outputs": [
        {
          "output_type": "stream",
          "text": [
            "Confusion Matrix\n"
          ],
          "name": "stdout"
        },
        {
          "output_type": "display_data",
          "data": {
            "text/plain": [
              "<Figure size 432x288 with 0 Axes>"
            ]
          },
          "metadata": {
            "tags": []
          }
        },
        {
          "output_type": "display_data",
          "data": {
            "image/png": "[encoded data removed]",
            "text/plain": [
              "<Figure size 288x288 with 1 Axes>"
            ]
          },
          "metadata": {
            "tags": [],
            "needs_background": "light"
          }
        }
      ]
    }
  ]
}